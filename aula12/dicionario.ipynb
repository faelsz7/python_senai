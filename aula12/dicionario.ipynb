{
 "cells": [
  {
   "cell_type": "markdown",
   "metadata": {},
   "source": [
    "# Dicionario\n",
    "\n",
    "É um conjunto de chaves e valores que distinguem um objeto. Estas chaves nos chamamos de KEYS e seus valores de VALUES. É um tipo de variavel python identificada pelas {}."
   ]
  },
  {
   "cell_type": "code",
   "execution_count": 10,
   "metadata": {},
   "outputs": [
    {
     "name": "stdout",
     "output_type": "stream",
     "text": [
      "{'nome': 'Raphael', 'idade': 16, 'cidade': 'Xique-Xique Bahia'}\n"
     ]
    }
   ],
   "source": [
    "pessoa = {\n",
    "    'nome': 'Raphael',\n",
    "    'idade': 16 ,\n",
    "    'cidade': 'Xique-Xique Bahia'\n",
    "}\n",
    "\n",
    "print(pessoa)"
   ]
  },
  {
   "cell_type": "code",
   "execution_count": 11,
   "metadata": {},
   "outputs": [
    {
     "name": "stdout",
     "output_type": "stream",
     "text": [
      "dict_keys(['nome', 'idade', 'cidade'])\n",
      "dict_values(['Raphael', 16, 'Xique-Xique Bahia'])\n"
     ]
    }
   ],
   "source": [
    "# Método KEYS()\n",
    "\n",
    "print(pessoa.keys())\n",
    "\n",
    "#Metodo VALUES()\n",
    "\n",
    "print(pessoa.values())"
   ]
  },
  {
   "cell_type": "code",
   "execution_count": 18,
   "metadata": {},
   "outputs": [
    {
     "data": {
      "text/plain": [
       "'Raphael'"
      ]
     },
     "execution_count": 18,
     "metadata": {},
     "output_type": "execute_result"
    }
   ],
   "source": [
    "# Olhando valores especificos de um dicionario\n",
    "\n",
    "pessoa['nome']"
   ]
  },
  {
   "cell_type": "code",
   "execution_count": 24,
   "metadata": {},
   "outputs": [
    {
     "name": "stdout",
     "output_type": "stream",
     "text": [
      "{'nome': 'Raphael', 'idade': 16, 'cidade': 'Xique-Xique Bahia'}\n",
      "{'nome': 'Raphael', 'idade': 16, 'cidade': 'Brasilia'}\n"
     ]
    }
   ],
   "source": [
    "#atribuindo um novo valor a uma chave\n",
    "print(pessoa)\n",
    "pessoa['cidade'] = 'Brasilia'\n",
    "print(pessoa)"
   ]
  },
  {
   "cell_type": "code",
   "execution_count": 26,
   "metadata": {},
   "outputs": [
    {
     "name": "stdout",
     "output_type": "stream",
     "text": [
      "{'nome': 'Raphael', 'idade': 16, 'cidade': 'Brasilia', 'email': 'soseiqnadasei@gmail.com'}\n"
     ]
    }
   ],
   "source": [
    "# Atribuindo novos valores a um dicionario\n",
    "\n",
    "pessoa['email'] = 'soseiqnadasei@gmail.com'\n",
    "\n",
    "print(pessoa)"
   ]
  },
  {
   "cell_type": "code",
   "execution_count": 27,
   "metadata": {},
   "outputs": [
    {
     "name": "stdout",
     "output_type": "stream",
     "text": [
      "{'nome': 'Raphael', 'email': 'soseiqnadasei@gmail.com'}\n"
     ]
    }
   ],
   "source": [
    "#excluindo a chave de um dicionario \n",
    "-----------primeira forma------------\n",
    "del pessoa ['idade']\n",
    "#-----------segunda forma------------\n",
    "pessoa.pop('cidade')\n",
    "\n",
    "print(pessoa)"
   ]
  },
  {
   "cell_type": "code",
   "execution_count": 38,
   "metadata": {},
   "outputs": [
    {
     "name": "stdout",
     "output_type": "stream",
     "text": [
      "0 {'nome': 'Daniel', 'cidade': 'Brasilia'}\n",
      "1 {'nome': 'Marcos', 'cidade': 'Recanto'}\n",
      "2 {'nome': 'luana', 'cidade': 'Gama'}\n",
      "3 {'nome': 'Francineide', 'cidade': 'Santa Maria'}\n"
     ]
    }
   ],
   "source": [
    "alunos = [\n",
    "    {'nome': 'Daniel', 'cidade': 'Brasilia'},\n",
    "    {'nome': 'Marcos', 'cidade': 'Recanto'},\n",
    "    {'nome': 'luana', 'cidade': 'Samambaia'},\n",
    "    {'nome': 'Francineide', 'cidade': 'Santa Maria'} \n",
    "]\n",
    "#percorrendo lista e printando cada dicionario\n",
    "#o 'indice(acho que pode ser qualquer nome)' untamente com o 'enumerate'\n",
    "for indice, aluno in enumerate(alunos): \n",
    "    print(indice, aluno)"
   ]
  },
  {
   "cell_type": "code",
   "execution_count": 42,
   "metadata": {},
   "outputs": [
    {
     "name": "stdout",
     "output_type": "stream",
     "text": [
      "{'nome': 'luana', 'cidade': 'Samambaia'}\n",
      "Samambaia\n"
     ]
    }
   ],
   "source": [
    "print(alunos[2])\n",
    "\n",
    "print(alunos[2]['cidade']) "
   ]
  },
  {
   "cell_type": "code",
   "execution_count": 43,
   "metadata": {},
   "outputs": [
    {
     "name": "stdout",
     "output_type": "stream",
     "text": [
      "{'Daniel': {'matricula': '1234', 'escolaridade': 'superior'}, 'Luana': {'matricula': '5367', 'escolaridade': 'superior'}, 'Gilmar': {'matricula': '7345', 'escolaridade': 'superior'}, 'Felipe': {'matricula': '8975', 'escolaridade': 'medio'}}\n"
     ]
    }
   ],
   "source": [
    "alunos_dicionario = {\n",
    "    'Daniel':{ 'matricula':'1234', 'escolaridade':'superior'},\n",
    "    'Luana':{ 'matricula':'5367', 'escolaridade':'superior'},\n",
    "    'Gilmar':{ 'matricula':'7345', 'escolaridade':'superior'},\n",
    "    'Felipe':{ 'matricula':'8975', 'escolaridade':'medio'},\n",
    "}\n",
    "\n",
    "print(alunos_dicionario)"
   ]
  },
  {
   "cell_type": "code",
   "execution_count": 45,
   "metadata": {},
   "outputs": [
    {
     "name": "stdout",
     "output_type": "stream",
     "text": [
      "medio\n"
     ]
    }
   ],
   "source": [
    "print(alunos_dicionario['Felipe']['escolaridade'])"
   ]
  }
 ],
 "metadata": {
  "interpreter": {
   "hash": "023695796a0456db28915f727eb64cb942055160ea749933aa044f2070f70f3a"
  },
  "kernelspec": {
   "display_name": "Python 3.12.5 64-bit (windows store)",
   "language": "python",
   "name": "python3"
  },
  "language_info": {
   "codemirror_mode": {
    "name": "ipython",
    "version": 3
   },
   "file_extension": ".py",
   "mimetype": "text/x-python",
   "name": "python",
   "nbconvert_exporter": "python",
   "pygments_lexer": "ipython3",
   "version": "3.12.5"
  },
  "orig_nbformat": 4
 },
 "nbformat": 4,
 "nbformat_minor": 2
}
