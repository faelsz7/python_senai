{
 "cells": [
  {
   "cell_type": "markdown",
   "metadata": {},
   "source": [
    "# Dicionario\n",
    "\n",
    "É um conjunto de chaves e valores que distinguem um objeto. Estas chaves nos chamamos de KEYS e seus valores de VALUES. É um tipo de variavel python identificada pelas {}."
   ]
  },
  {
   "cell_type": "code",
   "execution_count": 10,
   "metadata": {},
   "outputs": [
    {
     "name": "stdout",
     "output_type": "stream",
     "text": [
      "{'nome': 'Raphael', 'idade': 16, 'cidade': 'Xique-Xique Bahia'}\n"
     ]
    }
   ],
   "source": [
    "pessoa = {\n",
    "    'nome': 'Raphael',\n",
    "    'idade': 16 ,\n",
    "    'cidade': 'Xique-Xique Bahia'\n",
    "}\n",
    "\n",
    "print(pessoa)"
   ]
  },
  {
   "cell_type": "code",
   "execution_count": 11,
   "metadata": {},
   "outputs": [
    {
     "name": "stdout",
     "output_type": "stream",
     "text": [
      "dict_keys(['nome', 'idade', 'cidade'])\n",
      "dict_values(['Raphael', 16, 'Xique-Xique Bahia'])\n"
     ]
    }
   ],
   "source": [
    "# Método KEYS()\n",
    "\n",
    "print(pessoa.keys())\n",
    "\n",
    "#Metodo VALUES()\n",
    "\n",
    "print(pessoa.values())"
   ]
  },
  {
   "cell_type": "code",
   "execution_count": 18,
   "metadata": {},
   "outputs": [
    {
     "data": {
      "text/plain": [
       "'Raphael'"
      ]
     },
     "execution_count": 18,
     "metadata": {},
     "output_type": "execute_result"
    }
   ],
   "source": [
    "# Olhando valores especificos de um dicionario\n",
    "\n",
    "pessoa['nome']"
   ]
  },
  {
   "cell_type": "code",
   "execution_count": 24,
   "metadata": {},
   "outputs": [
    {
     "name": "stdout",
     "output_type": "stream",
     "text": [
      "{'nome': 'Raphael', 'idade': 16, 'cidade': 'Xique-Xique Bahia'}\n",
      "{'nome': 'Raphael', 'idade': 16, 'cidade': 'Brasilia'}\n"
     ]
    }
   ],
   "source": [
    "#atribuindo um novo valor a uma chave\n",
    "print(pessoa)\n",
    "pessoa['cidade'] = 'Brasilia'\n",
    "print(pessoa)"
   ]
  },
  {
   "cell_type": "code",
   "execution_count": 26,
   "metadata": {},
   "outputs": [
    {
     "name": "stdout",
     "output_type": "stream",
     "text": [
      "{'nome': 'Raphael', 'idade': 16, 'cidade': 'Brasilia', 'email': 'soseiqnadasei@gmail.com'}\n"
     ]
    }
   ],
   "source": [
    "# Atribuindo novos valores a um dicionario\n",
    "\n",
    "pessoa['email'] = 'soseiqnadasei@gmail.com'\n",
    "\n",
    "print(pessoa)"
   ]
  },
  {
   "cell_type": "code",
   "execution_count": 27,
   "metadata": {},
   "outputs": [
    {
     "name": "stdout",
     "output_type": "stream",
     "text": [
      "{'nome': 'Raphael', 'email': 'soseiqnadasei@gmail.com'}\n"
     ]
    }
   ],
   "source": [
    "#excluindo a chave de um dicionario \n",
    "-----------primeira forma------------\n",
    "del pessoa ['idade']\n",
    "#-----------segunda forma------------\n",
    "pessoa.pop('cidade')\n",
    "\n",
    "print(pessoa)"
   ]
  }
 ],
 "metadata": {
  "interpreter": {
   "hash": "023695796a0456db28915f727eb64cb942055160ea749933aa044f2070f70f3a"
  },
  "kernelspec": {
   "display_name": "Python 3.12.5 64-bit (windows store)",
   "language": "python",
   "name": "python3"
  },
  "language_info": {
   "codemirror_mode": {
    "name": "ipython",
    "version": 3
   },
   "file_extension": ".py",
   "mimetype": "text/x-python",
   "name": "python",
   "nbconvert_exporter": "python",
   "pygments_lexer": "ipython3",
   "version": "3.12.5"
  },
  "orig_nbformat": 4
 },
 "nbformat": 4,
 "nbformat_minor": 2
}
