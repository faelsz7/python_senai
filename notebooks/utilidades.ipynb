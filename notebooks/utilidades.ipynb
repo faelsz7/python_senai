{
 "cells": [
  {
   "cell_type": "code",
   "execution_count": 2,
   "metadata": {},
   "outputs": [
    {
     "data": {
      "text/plain": [
       "True"
      ]
     },
     "metadata": {},
     "output_type": "display_data"
    }
   ],
   "source": [
    "# ANY (qualquer , qualquer coisa)\n",
    "#caso algum objeto da lista for uma resposta positiva e resposta sera positiva, mesmo tendo varios 'False' ele aceita o 'True'\n",
    "resposta = any([False, False, True, False, False, ])\n",
    "display(resposta)"
   ]
  },
  {
   "cell_type": "code",
   "execution_count": 3,
   "metadata": {},
   "outputs": [
    {
     "data": {
      "text/plain": [
       "True"
      ]
     },
     "metadata": {},
     "output_type": "display_data"
    }
   ],
   "source": [
    "nomes = ['Lucas', '', '', '', '',]\n",
    "#caso tenha algum item na lista =True\n",
    "#caso estja vazia = False\n",
    "resposta = any(nomes)\n",
    "display(resposta)"
   ]
  },
  {
   "cell_type": "code",
   "execution_count": 7,
   "metadata": {},
   "outputs": [
    {
     "name": "stdout",
     "output_type": "stream",
     "text": [
      "False\n"
     ]
    }
   ],
   "source": [
    "numeros = [2 ,10 ,18 ,24]\n",
    "\n",
    "resultado = any(num % 2 == 0 for num in numeros)\n",
    "\n",
    "print(resultado)\n",
    "#nao sei bem como explicar essa parte mas a praticamente a mesma coisa do ultimo "
   ]
  },
  {
   "cell_type": "code",
   "execution_count": 54,
   "metadata": {},
   "outputs": [
    {
     "name": "stdout",
     "output_type": "stream",
     "text": [
      "True\n"
     ]
    }
   ],
   "source": [
    "tabuleiro = ['a','a','a',3,4,5,6,7,8]\n",
    "\n",
    "venceu = False\n",
    "combinacoes_vitoria = [\n",
    "    (0,1,2), (3,4,5), (6,7,8), #linhas\n",
    "    (0,3,6), (1,4,7), (2,5,8), #colunas\n",
    "    (0,4,8), (2,4,6),          #diagonais \n",
    "]\n",
    "\n",
    "venceu = any(tabuleiro[a] == tabuleiro[b] == tabuleiro[c] for a,b,c in combinacoes_vitoria)\n",
    "#for a,b,c in combinacoes_vitoria:\n",
    "#    if tabuleiro[a] == tabuleiro[b] == tabuleiro[c]:\n",
    "#resultado = any(tabu == venceu for tabu in tabuleiro)\n",
    "\n",
    "#venceu = True\n",
    "        \n",
    "print(venceu)"
   ]
  },
  {
   "cell_type": "code",
   "execution_count": 61,
   "metadata": {},
   "outputs": [
    {
     "name": "stdout",
     "output_type": "stream",
     "text": [
      "luciano lucas luan\n",
      "luciana luca luana\n",
      "Joana Jorge Jó\n"
     ]
    }
   ],
   "source": [
    "lista_nomes = [\n",
    "    ['luciano', 'lucas', 'luan'],\n",
    "    ['luciana', 'luca', 'luana'],\n",
    "    ['Joana', 'Jorge', 'Jó']\n",
    "]\n",
    "#navegaçao em uma lista normal\n",
    "#print(lista_numerica[1][2])\n",
    "#aqui ja nao sei explicar bem\n",
    "for nome1, nome2, nome3 in lista_nomes:\n",
    "    print(nome1, nome2, nome3)\n",
    "\n"
   ]
  },
  {
   "cell_type": "code",
   "execution_count": 63,
   "metadata": {},
   "outputs": [
    {
     "name": "stdout",
     "output_type": "stream",
     "text": [
      "False\n"
     ]
    }
   ],
   "source": [
    "lista = [True, True, True]\n",
    "#agora para dar um True todos devem ser True dentro da lista, ser tiver um false sequer o resultado e False\n",
    "resposta = all(lista)\n",
    "\n",
    "print(resposta)"
   ]
  },
  {
   "cell_type": "code",
   "execution_count": 69,
   "metadata": {},
   "outputs": [
    {
     "name": "stdout",
     "output_type": "stream",
     "text": [
      "['Laranja', 'Goiaba', 'Uva']\n",
      "['Laranja', 'Goiaba', 'Uva']\n",
      "['Laranja', 'Kiwi', 'Uva']\n",
      "['Laranja', 'Goiaba', 'Uva']\n"
     ]
    }
   ],
   "source": [
    "lista_frutas = ['Laranja', 'Goiaba', 'Uva']\n",
    "#lista completa se nao me engano :)\n",
    "#as chaves e dois pontos faz com que a copia lista nao copie a lista_frutas mesmo tendo renomeando um objeto da lista\n",
    "copia_lista = lista_frutas[:] \n",
    "\n",
    "print(lista_frutas)\n",
    "print(copia_lista)\n",
    "\n",
    "lista_frutas[1] = 'Kiwi'\n",
    "\n",
    "print(lista_frutas)\n",
    "print(copia_lista)"
   ]
  },
  {
   "cell_type": "code",
   "execution_count": null,
   "metadata": {},
   "outputs": [],
   "source": []
  },
  {
   "cell_type": "code",
   "execution_count": 83,
   "metadata": {},
   "outputs": [
    {
     "name": "stdin",
     "output_type": "stream",
     "text": [
      "informe o numero: \n",
      " 0\n",
      "informe o numero: \n",
      " 0\n"
     ]
    },
    {
     "name": "stdout",
     "output_type": "stream",
     "text": [
      "<class 'ZeroDivisionError'>\n",
      "Estou depois de try\n"
     ]
    }
   ],
   "source": [
    "#tratamento de erros\n",
    "\n",
    "try:\n",
    "    numero1 = int(input('informe o numero: \\n'))\n",
    "    numero2 = int(input('informe o numero: \\n'))\n",
    "\n",
    "    print('O resultado é:', numero1 / numero2)\n",
    "except ZeroDivisionError:\n",
    "    print(ZeroDivisionError)\n",
    "except ValueError:\n",
    "    print(ValueError)\n",
    "\n",
    "print('Estou depois de try')"
   ]
  },
  {
   "cell_type": "code",
   "execution_count": null,
   "metadata": {},
   "outputs": [],
   "source": []
  }
 ],
 "metadata": {
  "interpreter": {
   "hash": "2f75e8a51b372faee74748d97e603e2879ce05b3cac698bb8eb76005aee4ca9e"
  },
  "kernelspec": {
   "display_name": "Python 3 (ipykernel)",
   "language": "python",
   "name": "python3"
  },
  "language_info": {
   "codemirror_mode": {
    "name": "ipython",
    "version": 3
   },
   "file_extension": ".py",
   "mimetype": "text/x-python",
   "name": "python",
   "nbconvert_exporter": "python",
   "pygments_lexer": "ipython3",
   "version": "3.12.5"
  }
 },
 "nbformat": 4,
 "nbformat_minor": 4
}
