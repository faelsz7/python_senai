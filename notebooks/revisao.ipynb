{
 "cells": [
  {
   "cell_type": "markdown",
   "metadata": {},
   "source": [
    "# relembrando variaveis\n",
    "\n",
    "tipos:\n",
    "\n",
    "- int()\n",
    "- str()\n",
    "- float()\n",
    "- bool()\n",
    "- list[]\n",
    "- tuple()\n",
    "- dict{}"
   ]
  },
  {
   "cell_type": "code",
   "execution_count": 14,
   "metadata": {},
   "outputs": [],
   "source": [
    "numero = 1\n",
    "nome = 'Luciano'\n",
    "numero_decimal = 10.9\n",
    "sera = True\n",
    "frutas = ['pera','uva','jaca','mamao']\n",
    "carros = ('chevvete','kwid','fusca')\n",
    "pessoa = {'nome': 'raphael','idade':16,'altura':1.70}"
   ]
  },
  {
   "cell_type": "markdown",
   "metadata": {},
   "source": [
    "## Condicionais\n",
    "\n",
    "- if\n",
    "- match case"
   ]
  },
  {
   "cell_type": "code",
   "execution_count": 15,
   "metadata": {},
   "outputs": [
    {
     "name": "stdout",
     "output_type": "stream",
     "text": [
      "Nome da variavel incompativel\n"
     ]
    }
   ],
   "source": [
    "if nome == 'Raphael':\n",
    "    print('O nome esta certo')\n",
    "else:\n",
    "    print('Nome da variavel incompativel')"
   ]
  },
  {
   "cell_type": "code",
   "execution_count": null,
   "metadata": {},
   "outputs": [],
   "source": [
    "match numero:\n",
    "    case 1:\n",
    "        print('opçao 1')\n",
    "    case 2:\n",
    "        print('opçao 2')\n",
    "    case 3:\n",
    "        print('opçao 3')\n",
    "    case 4:\n",
    "        print('opçao 4')"
   ]
  },
  {
   "cell_type": "markdown",
   "metadata": {},
   "source": [
    "##laços de repetiçao\n",
    "\n",
    "- for\n",
    "- while"
   ]
  },
  {
   "cell_type": "code",
   "execution_count": null,
   "metadata": {},
   "outputs": [],
   "source": [
    "for numero in range(5):\n",
    "    print(f'o numero é: {numero}')"
   ]
  },
  {
   "cell_type": "code",
   "execution_count": null,
   "metadata": {},
   "outputs": [],
   "source": [
    "contador = 0\n",
    "while contador <= 5:\n",
    "    print(f'O contador é: {contador}')\n",
    "    contador += 1"
   ]
  },
  {
   "cell_type": "markdown",
   "metadata": {},
   "source": [
    "## metodos de string \n",
    "\n",
    "- upper\n",
    "- lopwer\n",
    "- capitalize\n",
    "- split\n",
    "- strip\n",
    "- slice\n",
    "- replace"
   ]
  },
  {
   "cell_type": "code",
   "execution_count": null,
   "metadata": {},
   "outputs": [],
   "source": [
    "aluno = 'Raphael Lucas Soares            '\n",
    "alunos = ['Samuel', 'Otavio'] \n",
    "\n",
    "print(aluno.lower())#tudo minusculo\n",
    "print(aluno.capitalize())#primeira letra maiuscula\n",
    "print(aluno.upper())#tudo maiusculo\n",
    "print(aluno.strip())#tira os espaços\n",
    "print(aluno.replace('Soares','barros')) #substitui uma sequencia de caracter por outra\n",
    "print(aluno.split())#cria uma lista com as palavras encontradas na string\n",
    "print('-'.join(alunos))#transforma uma lista em uma string com o caracterer desejado de separador\n",
    "print(aluno[8:13]) # corta a string no intervalo de caracteres fornecidos "
   ]
  },
  {
   "cell_type": "markdown",
   "metadata": {},
   "source": [
    "## Metodos de listas \n",
    "\n",
    "- append\n",
    "- extend\n",
    "- insert\n",
    "- remove\n",
    "- pop\n",
    "- index\n",
    "- del\n",
    "- sort \n",
    "- reverse"
   ]
  },
  {
   "cell_type": "code",
   "execution_count": 44,
   "metadata": {},
   "outputs": [
    {
     "name": "stdout",
     "output_type": "stream",
     "text": [
      "['notebook', 'smartphone', 'smart tv', 'fliperama']\n",
      "['notebook', 'smartphone', 'smart tv', 'fliperama', 'sofa', 'mesa', 'puff']\n",
      "['notebook', 'smartphone', 'smart tv', 'play5', 'fliperama', 'sofa', 'mesa', 'puff']\n",
      "['notebook', 'smartphone', 'smart tv', 'play5', 'fliperama', 'sofa', 'mesa']\n",
      "['notebook', 'smart tv', 'play5', 'fliperama', 'sofa', 'mesa']\n",
      "['notebook', 'play5', 'fliperama', 'sofa', 'mesa']\n",
      "['notebook', 'play5', 'fliperama', 'sofa', 'mesa']\n",
      "['fliperama', 'mesa', 'notebook', 'play5', 'sofa']\n",
      "['sofa', 'play5', 'notebook', 'mesa', 'fliperama']\n"
     ]
    }
   ],
   "source": [
    "produtos = ['notebook', 'smartphone', 'smart tv']\n",
    "\n",
    "produtos.append('fliperama')#adiciona um elemento ao final da lista\n",
    "print(produtos)\n",
    "produtos.extend(['sofa','mesa','puff'])#incrementa a lista a outra lista\n",
    "print(produtos)\n",
    "produtos.insert(3,'play5')#aciona um novo elemnto em uma posiçao especifica\n",
    "print(produtos)\n",
    "produtos.pop()#remove o ultimo elemnto da lista\n",
    "print(produtos)\n",
    "produtos.pop(1)#remove o elemento especifico da lista\n",
    "print(produtos)\n",
    "produtos.remove('smart tv')#remove a primeira ocorrencia encontrada da lista\n",
    "print(produtos)\n",
    "produtos.index('notebook')#retorna o indice da primeira o ocorrencia encontrada\n",
    "print(produtos)\n",
    "produtos.sort()#organiza em ordem crescente a lista\n",
    "print(produtos)\n",
    "produtos.reverse()#inverte a lista de tras para frente\n",
    "print(produtos)"
   ]
  },
  {
   "cell_type": "markdown",
   "metadata": {},
   "source": [
    "# funçoes\n",
    "\n",
    "## Sao capazes de armazenar um bloco de codigo e depois podem ser reaproveitadas em outro momento do codigo, somente chamado pelo seu nome.\n",
    "\n",
    "- ### tipos:\n",
    "    - funçao sem retorno\n",
    "    - funçao com retorno\n",
    "    - funçao com parametos\n",
    "    - funçao sem parametos\n",
    "    - funçaos lambda\n",
    "    - funçao com multiplos parametros\n",
    "        - parametros posicionais\n",
    "        - parametros nomeados\n",
    "    - funçoes recursivas\n",
    "    "
   ]
  },
  {
   "cell_type": "code",
   "execution_count": 47,
   "metadata": {},
   "outputs": [],
   "source": [
    "#funçao sem retorno\n",
    "\n",
    "def saudacao():\n",
    "    print('Hello World!')"
   ]
  },
  {
   "cell_type": "code",
   "execution_count": 51,
   "metadata": {},
   "outputs": [],
   "source": [
    "#funçao com retorno\n",
    "\n",
    "def somar():\n",
    "    soma = 10 + 25\n",
    "    return soma"
   ]
  },
  {
   "cell_type": "code",
   "execution_count": 53,
   "metadata": {},
   "outputs": [
    {
     "data": {
      "text/plain": [
       "35"
      ]
     },
     "execution_count": 53,
     "metadata": {},
     "output_type": "execute_result"
    }
   ],
   "source": [
    "somar() \n",
    "\n",
    "#num arquivo .py seria nescessario fazer um print\n"
   ]
  },
  {
   "cell_type": "code",
   "execution_count": 56,
   "metadata": {},
   "outputs": [],
   "source": [
    "#funçao com parametros\n",
    "\n",
    "def somar2(numero1, numero2):\n",
    "    soma = numero1 + numero2\n",
    "    return soma"
   ]
  },
  {
   "cell_type": "code",
   "execution_count": 57,
   "metadata": {},
   "outputs": [
    {
     "data": {
      "text/plain": [
       "13"
      ]
     },
     "execution_count": 57,
     "metadata": {},
     "output_type": "execute_result"
    }
   ],
   "source": [
    "somar2(5, 8)"
   ]
  },
  {
   "cell_type": "code",
   "execution_count": null,
   "metadata": {},
   "outputs": [],
   "source": [
    "#toda funçao sem parametros e todo codigo vazio como na [47] e [51]"
   ]
  },
  {
   "cell_type": "code",
   "execution_count": 58,
   "metadata": {},
   "outputs": [],
   "source": [
    "#funçao lambda\n",
    "\n",
    "soma_lambda = lambda numero1, numero2 : numero1 + numero2"
   ]
  },
  {
   "cell_type": "code",
   "execution_count": 61,
   "metadata": {},
   "outputs": [
    {
     "data": {
      "text/plain": [
       "178"
      ]
     },
     "execution_count": 61,
     "metadata": {},
     "output_type": "execute_result"
    }
   ],
   "source": [
    "soma_lambda(78, 100)"
   ]
  },
  {
   "cell_type": "code",
   "execution_count": 66,
   "metadata": {},
   "outputs": [],
   "source": [
    "#funçaos com multiplos parametros (tecnicmente deixa de ser parametro e vira um argumento) posicionais\n",
    "\n",
    "def somar3 (*numero):\n",
    "    resultado = sum(numero)\n",
    "    return resultado"
   ]
  },
  {
   "cell_type": "code",
   "execution_count": 67,
   "metadata": {},
   "outputs": [
    {
     "data": {
      "text/plain": [
       "101"
      ]
     },
     "execution_count": 67,
     "metadata": {},
     "output_type": "execute_result"
    }
   ],
   "source": [
    "somar3(1, 12, 25, 26, 27, 10)"
   ]
  },
  {
   "cell_type": "code",
   "execution_count": 63,
   "metadata": {},
   "outputs": [
    {
     "data": {
      "text/plain": [
       "40"
      ]
     },
     "execution_count": 63,
     "metadata": {},
     "output_type": "execute_result"
    }
   ],
   "source": [
    "#exemplo\n",
    "#\n",
    "#numeros_tupla = (1, 4, 10, 25)\n",
    "#\n",
    "#sum(numeros_tupla)"
   ]
  },
  {
   "cell_type": "code",
   "execution_count": 68,
   "metadata": {},
   "outputs": [],
   "source": [
    "# funçao multiplos parametros nomeados\n",
    "\n",
    "def gerar_produto (**parametros):\n",
    "    produto = parametros\n",
    "    return produto\n"
   ]
  },
  {
   "cell_type": "code",
   "execution_count": 69,
   "metadata": {},
   "outputs": [
    {
     "data": {
      "text/plain": [
       "{'nome': 'notebook', 'preco': 3000.0, 'fabricante': 'samsung'}"
      ]
     },
     "execution_count": 69,
     "metadata": {},
     "output_type": "execute_result"
    }
   ],
   "source": [
    "gerar_produto(nome = 'notebook', preco = 3000.00, fabricante = 'samsung')"
   ]
  },
  {
   "cell_type": "code",
   "execution_count": 73,
   "metadata": {},
   "outputs": [],
   "source": [
    "#funçoes fatorial convencional\n",
    "\n",
    "def calcula_fatorial(numero):\n",
    "    resultado = 1\n",
    "    for i in range(1 , numero + 1):\n",
    "        resultado *= i\n",
    "    return resultado"
   ]
  },
  {
   "cell_type": "code",
   "execution_count": 74,
   "metadata": {},
   "outputs": [
    {
     "data": {
      "text/plain": [
       "120"
      ]
     },
     "execution_count": 74,
     "metadata": {},
     "output_type": "execute_result"
    }
   ],
   "source": [
    "calcula_fatorial(5)"
   ]
  },
  {
   "cell_type": "code",
   "execution_count": 79,
   "metadata": {},
   "outputs": [],
   "source": [
    "def calcula_fatorial2(numero):\n",
    "    if numero == 0 or numero == 1:\n",
    "        return 1\n",
    "    else:\n",
    "        return numero * calcula_fatorial2(numero-1)"
   ]
  },
  {
   "cell_type": "code",
   "execution_count": 81,
   "metadata": {},
   "outputs": [
    {
     "name": "stdout",
     "output_type": "stream",
     "text": [
      "120\n"
     ]
    }
   ],
   "source": [
    "print(calcula_fatorial2(5))"
   ]
  }
 ],
 "metadata": {
  "interpreter": {
   "hash": "023695796a0456db28915f727eb64cb942055160ea749933aa044f2070f70f3a"
  },
  "kernelspec": {
   "display_name": "Python 3.12.5 64-bit (windows store)",
   "language": "python",
   "name": "python3"
  },
  "language_info": {
   "codemirror_mode": {
    "name": "ipython",
    "version": 3
   },
   "file_extension": ".py",
   "mimetype": "text/x-python",
   "name": "python",
   "nbconvert_exporter": "python",
   "pygments_lexer": "ipython3",
   "version": "3.12.5"
  },
  "orig_nbformat": 4
 },
 "nbformat": 4,
 "nbformat_minor": 2
}
